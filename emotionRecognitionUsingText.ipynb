{
 "cells": [
  {
   "cell_type": "code",
   "execution_count": 1,
   "metadata": {},
   "outputs": [],
   "source": [
    "import torch\n",
    "from torch.utils.data import Dataset, DataLoader, TensorDataset, RandomSampler, SequentialSampler\n",
    "from transformers import BertTokenizer, BertForSequenceClassification, AdamW, get_linear_schedule_with_warmup\n",
    "from sklearn.model_selection import train_test_split\n",
    "from sklearn.preprocessing import LabelEncoder\n",
    "import numpy as np\n",
    "import pandas as pd\n",
    "from tqdm.notebook import tqdm\n",
    "df = pd.read_csv(\n",
    "    r'C:\\Users\\ssid7\\Desktop\\Projects\\MCA_Major_Project-Multimodal_Emotion_Recognition_System\\tweet_emotions.csv',\n",
    "    usecols=['content', 'sentiment'],\n",
    "    dtype={'content': 'string', 'sentiment': 'category'}\n",
    ")\n",
    "df = df.rename(columns={'content': 'tweet', 'sentiment': 'label'})\n",
    "labels = ['neutral', 'sadness', 'happiness']\n",
    "df = df.query('label in @labels')\n",
    "df['label'] = df['label'].replace('sadness', 'negative')\n",
    "df['label'] = df['label'].replace('happiness', 'positive')\n",
    "data = df.dropna().reset_index(drop=True)"
   ]
  },
  {
   "cell_type": "code",
   "execution_count": 2,
   "metadata": {},
   "outputs": [
    {
     "data": {
      "text/plain": [
       "{0: 'neutral'}"
      ]
     },
     "execution_count": 2,
     "metadata": {},
     "output_type": "execute_result"
    }
   ],
   "source": [
    "data_pos = data.query('label == \"positive\"')[:5000]\n",
    "data_neu = data.query('label == \"neutral\"')[:5000]\n",
    "data_neg = data.query('label == \"negative\"')[:5000]\n",
    "\n",
    "data_final = pd.concat([data_pos, data_neu, data_neg])\n",
    "# Encode labels\n",
    "label_encoder = LabelEncoder()\n",
    "data_final['label_enc'] = label_encoder.fit_transform(data_final['label'])\n",
    "\n",
    "data_final.rename(columns={'label':'label_desc'},inplace=True)\n",
    "data_final.rename(columns={'label_enc':'label'},inplace=True)\n",
    "label_map = {}\n",
    "for index, row in data_final[['label_desc', 'label']].drop_duplicates(keep='first').iterrows():\n",
    "    label_map[row['label']] = row['label_desc']\n",
    "label_map"
   ]
  },
  {
   "cell_type": "code",
   "execution_count": 3,
   "metadata": {},
   "outputs": [],
   "source": [
    "# Split data\n",
    "X = data_final['tweet']\n",
    "y = data_final['label']\n",
    "\n",
    "X_train, X_test, y_train, y_test = train_test_split(X, y, test_size=0.3, random_state=42)\n",
    "X_train = X_train.reset_index(drop=True)\n",
    "X_test = X_test.reset_index(drop=True)\n",
    "y_train = y_train.reset_index(drop=True)\n",
    "y_test = y_test.reset_index(drop=True)\n",
    "device = torch.device(\"cuda\" if torch.cuda.is_available() else \"cpu\")"
   ]
  },
  {
   "cell_type": "code",
   "execution_count": 4,
   "metadata": {},
   "outputs": [
    {
     "name": "stderr",
     "output_type": "stream",
     "text": [
      "Some weights of BertForSequenceClassification were not initialized from the model checkpoint at bert-base-uncased and are newly initialized: ['classifier.bias', 'classifier.weight']\n",
      "You should probably TRAIN this model on a down-stream task to be able to use it for predictions and inference.\n",
      "c:\\Python312\\Lib\\site-packages\\transformers\\optimization.py:591: FutureWarning: This implementation of AdamW is deprecated and will be removed in a future version. Use the PyTorch implementation torch.optim.AdamW instead, or set `no_deprecation_warning=True` to disable this warning\n",
      "  warnings.warn(\n"
     ]
    }
   ],
   "source": [
    "# Initialize BERT tokenizer and model\n",
    "tokenizer = BertTokenizer.from_pretrained('bert-base-uncased')\n",
    "model = BertForSequenceClassification.from_pretrained(\"bert-base-uncased\", num_labels=len(label_encoder.classes_)).to(device)\n",
    "\n",
    "# Optimizer and learning rate scheduler\n",
    "optimizer = AdamW(model.parameters(), lr=2e-5, eps=1e-8)\n",
    "epochs = 2"
   ]
  },
  {
   "cell_type": "code",
   "execution_count": 5,
   "metadata": {},
   "outputs": [
    {
     "name": "stderr",
     "output_type": "stream",
     "text": [
      "Truncation was not explicitly activated but `max_length` is provided a specific value, please use `truncation=True` to explicitly truncate examples to max length. Defaulting to 'longest_first' truncation strategy. If you encode pairs of sequences (GLUE-style) with the tokenizer you can select this strategy more precisely by providing a specific strategy to `truncation`.\n",
      "c:\\Python312\\Lib\\site-packages\\transformers\\tokenization_utils_base.py:2834: FutureWarning: The `pad_to_max_length` argument is deprecated and will be removed in a future version, use `padding=True` or `padding='longest'` to pad to the longest sequence in the batch, or use `padding='max_length'` to pad to a max length. In this case, you can give a specific length with `max_length` (e.g. `max_length=45`) or leave max_length to None to pad to the maximal input size of the model (e.g. 512 for Bert).\n",
      "  warnings.warn(\n"
     ]
    }
   ],
   "source": [
    "train_inputs = [tokenizer.encode(sent, add_special_tokens=True, max_length=256, pad_to_max_length=True) for sent in X_train]\n",
    "test_inputs = [tokenizer.encode(sent, add_special_tokens=True, max_length=256, pad_to_max_length=True) for sent in X_test]\n",
    "\n",
    "# Create attention masks\n",
    "train_masks = [[float(i > 0) for i in seq] for seq in train_inputs]\n",
    "test_masks = [[float(i > 0) for i in seq] for seq in test_inputs]\n",
    "\n",
    "# Convert all data into torch tensors\n",
    "train_inputs = torch.tensor(train_inputs)\n",
    "train_masks = torch.tensor(train_masks)\n",
    "train_labels = torch.tensor(y_train.values)\n",
    "\n",
    "test_inputs = torch.tensor(test_inputs)\n",
    "test_masks = torch.tensor(test_masks)\n",
    "test_labels = torch.tensor(y_test.values)"
   ]
  },
  {
   "cell_type": "code",
   "execution_count": 6,
   "metadata": {},
   "outputs": [],
   "source": [
    "batch_size = 8\n",
    "\n",
    "# Create DataLoader for training set\n",
    "train_data = TensorDataset(train_inputs, train_masks, train_labels)\n",
    "train_sampler = RandomSampler(train_data)\n",
    "train_dataloader = DataLoader(train_data, sampler=train_sampler, batch_size=batch_size)\n",
    "\n",
    "# Create DataLoader for test set\n",
    "test_data = TensorDataset(test_inputs, test_masks, test_labels)\n",
    "test_sampler = SequentialSampler(test_data)\n",
    "test_dataloader = DataLoader(test_data, sampler=test_sampler, batch_size=batch_size)"
   ]
  },
  {
   "cell_type": "code",
   "execution_count": 7,
   "metadata": {},
   "outputs": [],
   "source": [
    "total_steps = len(train_dataloader) * epochs\n",
    "scheduler = get_linear_schedule_with_warmup(optimizer, num_warmup_steps=0, num_training_steps=total_steps)"
   ]
  },
  {
   "cell_type": "code",
   "execution_count": null,
   "metadata": {},
   "outputs": [
    {
     "name": "stdout",
     "output_type": "stream",
     "text": [
      "Epoch 1/2\n"
     ]
    },
    {
     "data": {
      "application/vnd.jupyter.widget-view+json": {
       "model_id": "301109d6bde64a49a967a2b6e6a5f69b",
       "version_major": 2,
       "version_minor": 0
      },
      "text/plain": [
       "Training:   0%|          | 0/438 [00:00<?, ?it/s]"
      ]
     },
     "metadata": {},
     "output_type": "display_data"
    }
   ],
   "source": [
    "# Training loop\n",
    "for epoch in range(epochs):\n",
    "    print(f\"Epoch {epoch + 1}/{epochs}\")\n",
    "    model.train()\n",
    "    \n",
    "    total_loss = 0\n",
    "    train_accuracy = 0\n",
    "    for step, batch in enumerate(tqdm(train_dataloader, desc=\"Training\")):\n",
    "        batch_input_ids, batch_input_mask, batch_labels = batch\n",
    "        batch_input_ids = batch_input_ids.to(device)\n",
    "        batch_input_mask = batch_input_mask.to(device)\n",
    "        batch_labels = batch_labels.to(device).float()  # Ensure labels are float type\n",
    "        \n",
    "\n",
    "        model.zero_grad()\n",
    "        \n",
    "        outputs = model(batch_input_ids, token_type_ids=None, attention_mask=batch_input_mask, labels=batch_labels)\n",
    "        \n",
    "        loss = outputs.loss\n",
    "        logits = outputs.logits\n",
    "        \n",
    "        total_loss += loss.item()\n",
    "        loss.backward()\n",
    "        \n",
    "        torch.nn.utils.clip_grad_norm_(model.parameters(), 1.0)\n",
    "        optimizer.step()\n",
    "        scheduler.step()\n",
    "        \n",
    "        preds = torch.argmax(logits, dim=1)\n",
    "        train_accuracy += (preds == batch_labels).sum().item() / len(batch_labels)\n",
    "    \n",
    "    avg_train_loss = total_loss / len(train_dataloader)\n",
    "    avg_train_accuracy = train_accuracy / len(train_dataloader)\n",
    "    print(f\"Training loss: {avg_train_loss:.4f}\")\n",
    "    print(f\"Training accuracy: {avg_train_accuracy:.4f}\")\n",
    "    \n",
    "    # Validation loop\n",
    "    model.eval()\n",
    "    val_accuracy = 0\n",
    "    for batch in tqdm(test_dataloader, desc=\"Validation\"):\n",
    "        batch_input_ids, batch_input_mask, batch_labels = batch\n",
    "        batch_input_ids = batch_input_ids.to(device)\n",
    "        batch_input_mask = batch_input_mask.to(device)\n",
    "        batch_labels = batch_labels.to(device).long()  # Ensure labels are long type\n",
    "        \n",
    "        with torch.no_grad():\n",
    "            outputs = model(batch_input_ids, token_type_ids=None, attention_mask=batch_input_mask, labels=batch_labels)\n",
    "        \n",
    "        logits = outputs.logits\n",
    "        preds = torch.argmax(logits, dim=1)\n",
    "        val_accuracy += (preds == batch_labels).sum().item() / len(batch_labels)\n",
    "    \n",
    "    avg_val_accuracy = val_accuracy / len(test_dataloader)\n",
    "    print(f\"Validation accuracy: {avg_val_accuracy:.4f}\")"
   ]
  },
  {
   "cell_type": "code",
   "execution_count": null,
   "metadata": {},
   "outputs": [
    {
     "data": {
      "text/plain": [
       "('./bert-emotion-classifier\\\\tokenizer_config.json',\n",
       " './bert-emotion-classifier\\\\special_tokens_map.json',\n",
       " './bert-emotion-classifier\\\\vocab.txt',\n",
       " './bert-emotion-classifier\\\\added_tokens.json')"
      ]
     },
     "execution_count": 13,
     "metadata": {},
     "output_type": "execute_result"
    }
   ],
   "source": [
    "model.save_pretrained('./bert-emotion-classifier')\n",
    "tokenizer.save_pretrained('./bert-emotion-classifier')"
   ]
  },
  {
   "cell_type": "code",
   "execution_count": null,
   "metadata": {},
   "outputs": [
    {
     "data": {
      "text/plain": [
       "BertForSequenceClassification(\n",
       "  (bert): BertModel(\n",
       "    (embeddings): BertEmbeddings(\n",
       "      (word_embeddings): Embedding(30522, 768, padding_idx=0)\n",
       "      (position_embeddings): Embedding(512, 768)\n",
       "      (token_type_embeddings): Embedding(2, 768)\n",
       "      (LayerNorm): LayerNorm((768,), eps=1e-12, elementwise_affine=True)\n",
       "      (dropout): Dropout(p=0.1, inplace=False)\n",
       "    )\n",
       "    (encoder): BertEncoder(\n",
       "      (layer): ModuleList(\n",
       "        (0-11): 12 x BertLayer(\n",
       "          (attention): BertAttention(\n",
       "            (self): BertSdpaSelfAttention(\n",
       "              (query): Linear(in_features=768, out_features=768, bias=True)\n",
       "              (key): Linear(in_features=768, out_features=768, bias=True)\n",
       "              (value): Linear(in_features=768, out_features=768, bias=True)\n",
       "              (dropout): Dropout(p=0.1, inplace=False)\n",
       "            )\n",
       "            (output): BertSelfOutput(\n",
       "              (dense): Linear(in_features=768, out_features=768, bias=True)\n",
       "              (LayerNorm): LayerNorm((768,), eps=1e-12, elementwise_affine=True)\n",
       "              (dropout): Dropout(p=0.1, inplace=False)\n",
       "            )\n",
       "          )\n",
       "          (intermediate): BertIntermediate(\n",
       "            (dense): Linear(in_features=768, out_features=3072, bias=True)\n",
       "            (intermediate_act_fn): GELUActivation()\n",
       "          )\n",
       "          (output): BertOutput(\n",
       "            (dense): Linear(in_features=3072, out_features=768, bias=True)\n",
       "            (LayerNorm): LayerNorm((768,), eps=1e-12, elementwise_affine=True)\n",
       "            (dropout): Dropout(p=0.1, inplace=False)\n",
       "          )\n",
       "        )\n",
       "      )\n",
       "    )\n",
       "    (pooler): BertPooler(\n",
       "      (dense): Linear(in_features=768, out_features=768, bias=True)\n",
       "      (activation): Tanh()\n",
       "    )\n",
       "  )\n",
       "  (dropout): Dropout(p=0.1, inplace=False)\n",
       "  (classifier): Linear(in_features=768, out_features=3, bias=True)\n",
       ")"
      ]
     },
     "execution_count": 14,
     "metadata": {},
     "output_type": "execute_result"
    }
   ],
   "source": [
    "model_path = './bert-emotion-classifier'\n",
    "tokenizer = BertTokenizer.from_pretrained(model_path)\n",
    "model = BertForSequenceClassification.from_pretrained(model_path)\n",
    "model.to(device)\n",
    "model.eval()"
   ]
  },
  {
   "cell_type": "code",
   "execution_count": null,
   "metadata": {},
   "outputs": [],
   "source": [
    "def predict_emotion(text):\n",
    "    inputs = tokenizer.encode_plus(\n",
    "        text,\n",
    "        add_special_tokens=True,\n",
    "        max_length=128,\n",
    "        padding='max_length',\n",
    "        return_attention_mask=True,\n",
    "        return_tensors='pt',\n",
    "        truncation=True\n",
    "    )\n",
    "    input_ids = inputs['input_ids'].to(device)\n",
    "    attention_mask = inputs['attention_mask'].to(device)\n",
    "\n",
    "    with torch.no_grad():\n",
    "        outputs = model(input_ids, attention_mask=attention_mask)\n",
    "    \n",
    "    logits = outputs.logits\n",
    "    predicted_class = torch.argmax(logits, dim=1).item()\n",
    "    return label_encoder.inverse_transform([predicted_class])[0]"
   ]
  },
  {
   "cell_type": "code",
   "execution_count": null,
   "metadata": {},
   "outputs": [
    {
     "name": "stdout",
     "output_type": "stream",
     "text": [
      "Text: I also think that I'm talking to myself now. Okay I need to get to bed. BTW, I miss my brothers.\n",
      "True Label: negative\n",
      "Predicted Label: negative\n",
      "\n",
      "Text: @ismh i don't have anything being fwd through to mobileme and the last week i've gotten at least 4 -5 spam messages a day\n",
      "True Label: neutral\n",
      "Predicted Label: neutral\n",
      "\n",
      "Text: facebook is being a bitch\n",
      "True Label: negative\n",
      "Predicted Label: negative\n",
      "\n",
      "Text: says Morning.  http://plurk.com/p/x34ap\n",
      "True Label: positive\n",
      "Predicted Label: neutral\n",
      "\n",
      "Text: sitting in awe that the price to renew my laptops warranty has doubled in a matter of weeks\n",
      "True Label: neutral\n",
      "Predicted Label: neutral\n",
      "\n",
      "Text: lol, you can see the sunburnnn    its not achurley that bad =| least i dont think it is xD http://tinyurl.com/njubcl\n",
      "True Label: neutral\n",
      "Predicted Label: negative\n",
      "\n",
      "Text: flashlight tag!  i love playing games in the dark.\n",
      "True Label: positive\n",
      "Predicted Label: positive\n",
      "\n",
      "Text: @roflwolf yeah they are basically awesome\n",
      "True Label: positive\n",
      "Predicted Label: positive\n",
      "\n",
      "Text: @joshcough Also it has a dense treatment of CPS and Continuation based Interpreter design, which is not there in SICP. Good to have both\n",
      "True Label: positive\n",
      "Predicted Label: positive\n",
      "\n",
      "Text: @PHILIPGRANGER Thanks for the follow! (raises hand) I am\n",
      "True Label: positive\n",
      "Predicted Label: positive\n",
      "\n"
     ]
    }
   ],
   "source": [
    "example_indices = [0, 1, 2, 3, 4, 5, 6, 7, 8, 9]\n",
    "example_texts = X_test.iloc[example_indices].tolist()\n",
    "example_labels = y_test.iloc[example_indices].tolist()\n",
    "\n",
    "for text, true_label in zip(example_texts, example_labels):\n",
    "    predicted_label = predict_emotion(text)\n",
    "    print(f\"Text: {text}\")\n",
    "    print(f\"True Label: {label_map[true_label]}\")\n",
    "    print(f\"Predicted Label: {predicted_label}\\n\")"
   ]
  }
 ],
 "metadata": {
  "kernelspec": {
   "display_name": "Python 3",
   "language": "python",
   "name": "python3"
  },
  "language_info": {
   "codemirror_mode": {
    "name": "ipython",
    "version": 3
   },
   "file_extension": ".py",
   "mimetype": "text/x-python",
   "name": "python",
   "nbconvert_exporter": "python",
   "pygments_lexer": "ipython3",
   "version": "3.12.4"
  }
 },
 "nbformat": 4,
 "nbformat_minor": 2
}
